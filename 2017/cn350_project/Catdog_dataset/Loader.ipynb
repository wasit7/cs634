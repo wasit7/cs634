{
 "cells": [
  {
   "cell_type": "code",
   "execution_count": 4,
   "metadata": {},
   "outputs": [
    {
     "name": "stdout",
     "output_type": "stream",
     "text": [
      "http://farm1.static.flickr.com/164/358144227_01e5544b79.jpg\n",
      "http://www.pantherkut.com/wp-content/uploads/2007/04/2.jpg\n",
      "http://farm3.static.flickr.com/2325/1891011832_cb5d5098c2.jpg\n",
      "http://farm1.static.flickr.com/1/2800688_afe83c164a.jpg\n",
      "http://farm1.static.flickr.com/46/151838410_88d0d8198b.jpg\n",
      "http://www.jameswilsonphotography.com/photogallery/photo3146/Dog.jpg\n",
      "http://farm1.static.flickr.com/147/421773683_7705c66f95.jpg\n",
      "http://farm1.static.flickr.com/48/146403300_0128782865.jpg\n",
      "http://static.flickr.com/5/7220886_ece3a7ecea.jpg\n",
      "http://www.mierdas.es/wp-content/uploads/2006/12/perro-con-dentadura.jpg\n"
     ]
    }
   ],
   "source": [
    "# dog http://www.image-net.org/api/text/imagenet.synset.geturls?wnid=n02084071\n",
    "# cat\n",
    "import shutil\n",
    "import requests\n",
    "import uuid\n",
    "import os\n",
    "\n",
    "dog_url=\"http://www.image-net.org/api/text/imagenet.synset.geturls?wnid=n02084071\"\n",
    "dog_response=requests.get(dog_url, stream=True)\n",
    "dogs=dog_response.text.split()\n",
    "\n",
    "for url in dogs[:10]:\n",
    "    print(url)\n",
    "    try:\n",
    "        response = requests.get(url, stream=True)\n",
    "\n",
    "        file_name= '{}.jpg'.format(uuid.uuid4())\n",
    "        with open( os.path.join('dog', file_name), 'wb') as out_file:\n",
    "            shutil.copyfileobj(response.raw, out_file)\n",
    "    except:\n",
    "        print('invalid url')"
   ]
  },
  {
   "cell_type": "code",
   "execution_count": 13,
   "metadata": {
    "collapsed": true
   },
   "outputs": [],
   "source": [
    "rm -rf dog/*.jpg"
   ]
  },
  {
   "cell_type": "code",
   "execution_count": 5,
   "metadata": {},
   "outputs": [
    {
     "name": "stdout",
     "output_type": "stream",
     "text": [
      "2fa81c13-e1f9-497c-a145-a131ad432f82.jpg\r\n",
      "3e58641e-e40e-4baf-98eb-db723b443910.jpg\r\n",
      "3efce652-6388-4845-acf4-4f0efc3dbc5e.jpg\r\n",
      "573c096c-d71f-4808-bf2b-34502e036bdf.jpg\r\n",
      "795c7ebd-c596-4b8d-886a-d5091567b7e6.jpg\r\n",
      "7f3b7443-363e-44de-9e85-8b3659132b78.jpg\r\n",
      "87813e8f-4dce-4871-a1b9-b998ccfb6de5.jpg\r\n",
      "9a9d2742-5566-4714-b08e-b84de8daada6.jpg\r\n",
      "b4bf89a4-1a53-4f6e-9a51-b18ff15ef953.jpg\r\n",
      "c43610e1-d6b8-4655-b60c-1d8f8fa4fd2f.jpg\r\n"
     ]
    }
   ],
   "source": [
    "ls dog"
   ]
  },
  {
   "cell_type": "code",
   "execution_count": 6,
   "metadata": {},
   "outputs": [
    {
     "data": {
      "text/plain": [
       "True"
      ]
     },
     "execution_count": 6,
     "metadata": {},
     "output_type": "execute_result"
    }
   ],
   "source": [
    "response.ok"
   ]
  },
  {
   "cell_type": "code",
   "execution_count": 7,
   "metadata": {},
   "outputs": [
    {
     "data": {
      "text/plain": [
       "<Response [200]>"
      ]
     },
     "execution_count": 7,
     "metadata": {},
     "output_type": "execute_result"
    }
   ],
   "source": [
    "response"
   ]
  },
  {
   "cell_type": "code",
   "execution_count": null,
   "metadata": {
    "collapsed": true
   },
   "outputs": [],
   "source": []
  }
 ],
 "metadata": {
  "kernelspec": {
   "display_name": "Python [default]",
   "language": "python",
   "name": "python3"
  },
  "language_info": {
   "codemirror_mode": {
    "name": "ipython",
    "version": 3
   },
   "file_extension": ".py",
   "mimetype": "text/x-python",
   "name": "python",
   "nbconvert_exporter": "python",
   "pygments_lexer": "ipython3",
   "version": "3.6.1"
  }
 },
 "nbformat": 4,
 "nbformat_minor": 2
}
