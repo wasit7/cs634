{
 "cells": [
  {
   "cell_type": "code",
   "execution_count": 1,
   "metadata": {},
   "outputs": [
    {
     "data": {
      "text/plain": [
       "'/Users/admin/Desktop/wasit/cs634/2017/cn350_project'"
      ]
     },
     "execution_count": 1,
     "metadata": {},
     "output_type": "execute_result"
    }
   ],
   "source": [
    "%pwd"
   ]
  },
  {
   "cell_type": "code",
   "execution_count": 2,
   "metadata": {
    "collapsed": true
   },
   "outputs": [],
   "source": [
    "import tensorflow as tf"
   ]
  },
  {
   "cell_type": "code",
   "execution_count": 3,
   "metadata": {},
   "outputs": [],
   "source": [
    "P = tf.Variable(tf.ones([3]),tf.float32)\n",
    "Q = tf.Variable(tf.random_uniform(shape=[3],minval=0,maxval=1,dtype=tf.float32))\n",
    "#R=tf.add(P,Q)\n",
    "R= 0.5*(P+Q)"
   ]
  },
  {
   "cell_type": "code",
   "execution_count": 4,
   "metadata": {},
   "outputs": [
    {
     "name": "stdout",
     "output_type": "stream",
     "text": [
      "[ 1.  1.  1.] [ 0.22090411  0.48200917  0.40541804] [ 0.61045206  0.74100459  0.70270902]\n"
     ]
    }
   ],
   "source": [
    "with tf.Session() as sess:\n",
    "    sess.run( tf.global_variables_initializer() )\n",
    "    #sess.run( fetches= [P, Q], feed_dict=None )\n",
    "    p,q, r = sess.run( [P, Q, R])\n",
    "print(p,q,r)"
   ]
  },
  {
   "cell_type": "code",
   "execution_count": 5,
   "metadata": {},
   "outputs": [
    {
     "name": "stdout",
     "output_type": "stream",
     "text": [
      "Extracting MNIST_data/train-images-idx3-ubyte.gz\n",
      "Extracting MNIST_data/train-labels-idx1-ubyte.gz\n",
      "Extracting MNIST_data/t10k-images-idx3-ubyte.gz\n",
      "Extracting MNIST_data/t10k-labels-idx1-ubyte.gz\n"
     ]
    }
   ],
   "source": [
    "from tensorflow.examples.tutorials.mnist import input_data\n",
    "mnist=input_data.read_data_sets('MNIST_data',one_hot=True)"
   ]
  },
  {
   "cell_type": "code",
   "execution_count": 6,
   "metadata": {
    "collapsed": true
   },
   "outputs": [],
   "source": [
    "x  =tf.placeholder(tf.float32,shape=[None,784]) #28*28\n",
    "w0  =tf.Variable(tf.zeros([784,200]),tf.float32)\n",
    "b0  =tf.Variable(tf.zeros([200]),tf.float32)\n",
    "w1  =tf.Variable(tf.zeros([200,10]),tf.float32)\n",
    "b1  =tf.Variable(tf.zeros([10]),tf.float32)\n",
    "yt =tf.placeholder(tf.float32,shape=[None,10])"
   ]
  },
  {
   "cell_type": "code",
   "execution_count": 7,
   "metadata": {},
   "outputs": [],
   "source": [
    "z0=tf.nn.softmax( tf.matmul(x,w0)+b0 )\n",
    "yp=tf.nn.sigmoid( tf.matmul(z0,w1)+b1 )\n",
    "cross_entropy=tf.reduce_mean(-tf.reduce_sum(yt*tf.log(yp),reduction_indices=[1]))\n",
    "#cross_entropy=tf.reduce_mean(tf.reduce_sum(tf.square(yt - yp),reduction_indices=[1]))\n",
    "train_step=tf.train.AdadeltaOptimizer(0.5).minimize(cross_entropy)"
   ]
  },
  {
   "cell_type": "code",
   "execution_count": 8,
   "metadata": {},
   "outputs": [
    {
     "name": "stdout",
     "output_type": "stream",
     "text": [
      "0.693147\n",
      "0.524198\n",
      "0.38278\n",
      "0.281024\n",
      "0.204577\n",
      "0.150241\n",
      "0.110953\n",
      "0.0820108\n",
      "0.0605303\n",
      "0.0450831\n",
      "Accuracy of the ANN is 11.349999904632568\n"
     ]
    }
   ],
   "source": [
    "with tf.Session() as sess:\n",
    "    sess.run( tf.global_variables_initializer() )\n",
    "    for i in range(10000):\n",
    "        #batch[0]: images\n",
    "        #batch[1]: labels\n",
    "        batch=mnist.train.next_batch(100)\n",
    "        _,cost =sess.run(fetches=[train_step, cross_entropy], \n",
    "                 feed_dict={ x: batch[0], yt: batch[1] })\n",
    "        if i%1000==0:\n",
    "            print(cost) \n",
    "    correct_prediction=tf.equal(tf.argmax(yp,1),tf.arg_max(yt,1))\n",
    "    accuracy=tf.reduce_mean(tf.cast(correct_prediction,tf.float32))\n",
    "    acc=accuracy.eval(feed_dict={x:mnist.test.images, yt:mnist.test.labels})*100\n",
    "    print (\"Accuracy of the ANN is {}\".format(acc) )"
   ]
  },
  {
   "cell_type": "code",
   "execution_count": null,
   "metadata": {
    "collapsed": true
   },
   "outputs": [],
   "source": []
  },
  {
   "cell_type": "code",
   "execution_count": null,
   "metadata": {
    "collapsed": true
   },
   "outputs": [],
   "source": []
  },
  {
   "cell_type": "code",
   "execution_count": null,
   "metadata": {
    "collapsed": true
   },
   "outputs": [],
   "source": []
  },
  {
   "cell_type": "code",
   "execution_count": null,
   "metadata": {
    "collapsed": true
   },
   "outputs": [],
   "source": []
  },
  {
   "cell_type": "code",
   "execution_count": null,
   "metadata": {
    "collapsed": true
   },
   "outputs": [],
   "source": []
  },
  {
   "cell_type": "code",
   "execution_count": null,
   "metadata": {
    "collapsed": true
   },
   "outputs": [],
   "source": []
  }
 ],
 "metadata": {
  "kernelspec": {
   "display_name": "Python [conda env:tensorflow]",
   "language": "python",
   "name": "conda-env-tensorflow-py"
  },
  "language_info": {
   "codemirror_mode": {
    "name": "ipython",
    "version": 3
   },
   "file_extension": ".py",
   "mimetype": "text/x-python",
   "name": "python",
   "nbconvert_exporter": "python",
   "pygments_lexer": "ipython3",
   "version": "3.6.2"
  }
 },
 "nbformat": 4,
 "nbformat_minor": 2
}
