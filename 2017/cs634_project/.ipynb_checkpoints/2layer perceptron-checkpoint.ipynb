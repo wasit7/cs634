{
 "cells": [
  {
   "cell_type": "code",
   "execution_count": 1,
   "metadata": {},
   "outputs": [
    {
     "name": "stdout",
     "output_type": "stream",
     "text": [
      "Extracting MNIST_data\\train-images-idx3-ubyte.gz\n",
      "Extracting MNIST_data\\train-labels-idx1-ubyte.gz\n",
      "Extracting MNIST_data\\t10k-images-idx3-ubyte.gz\n",
      "Extracting MNIST_data\\t10k-labels-idx1-ubyte.gz\n"
     ]
    }
   ],
   "source": [
    "import tensorflow as tf\n",
    "from tensorflow.examples.tutorials.mnist import input_data\n",
    "mnist=input_data.read_data_sets('MNIST_data',one_hot=True)"
   ]
  },
  {
   "cell_type": "code",
   "execution_count": 2,
   "metadata": {
    "collapsed": true
   },
   "outputs": [],
   "source": [
    "x  =tf.placeholder(tf.float32,shape=[None,784]) #28*28\n",
    "W0  =tf.Variable(tf.zeros([784,200]),tf.float32)\n",
    "b0  =tf.Variable(tf.zeros([200]),tf.float32)\n",
    "W1  =tf.Variable(tf.zeros([200,10]),tf.float32)\n",
    "b1  =tf.Variable(tf.zeros([10]),tf.float32)\n",
    "y_ =tf.placeholder(tf.float32,shape=[None,10])"
   ]
  },
  {
   "cell_type": "code",
   "execution_count": 3,
   "metadata": {},
   "outputs": [],
   "source": [
    "y0=tf.nn.sigmoid( tf.matmul(x,W0)+b0 )\n",
    "y1=tf.nn.softmax( tf.matmul(y0,W1)+b1 )\n",
    "# cross_entropy=tf.reduce_mean(-tf.reduce_sum(y_*tf.log(y),reduction_indices=[1]))\n",
    "# train_step=tf.train.GradientDescentOptimizer(0.5).minimize(cross_entropy)\n",
    "cross_entropy=tf.reduce_mean(tf.reduce_sum(tf.square(y_ - y1),reduction_indices=[1]))\n",
    "train_step=tf.train.AdadeltaOptimizer(0.9).minimize(cross_entropy)"
   ]
  },
  {
   "cell_type": "code",
   "execution_count": 4,
   "metadata": {},
   "outputs": [
    {
     "name": "stdout",
     "output_type": "stream",
     "text": [
      "None 0.9\n",
      "None 0.899349\n",
      "None 0.815511\n",
      "None 0.806085\n",
      "None 0.77586\n",
      "None 0.790273\n",
      "None 0.822304\n",
      "None 0.77466\n",
      "None 0.691044\n",
      "None 0.769931\n",
      "Accuracy of the ANN is 31.88999891281128\n"
     ]
    }
   ],
   "source": [
    "with tf.Session() as sess:\n",
    "    sess.run( tf.global_variables_initializer() )\n",
    "    for i in range(10000):\n",
    "        batch=mnist.train.next_batch(100)\n",
    "        #train_step.run(,feed_dict={x:batch[0], y_:batch[1]})\n",
    "        train, cost=sess.run([train_step,cross_entropy], \n",
    "                             feed_dict={x:batch[0], y_:batch[1]})\n",
    "        if i%1000==0:\n",
    "            print(train,cost)\n",
    "    \n",
    "    correct_prediction=tf.equal(tf.argmax(y1,1),tf.arg_max(y_,1))\n",
    "    accuracy=tf.reduce_mean(tf.cast(correct_prediction,tf.float32))\n",
    "    acc=accuracy.eval(feed_dict={x:mnist.test.images, y_:mnist.test.labels})*100\n",
    "    print (\"Accuracy of the ANN is {}\".format(acc) )"
   ]
  },
  {
   "cell_type": "code",
   "execution_count": null,
   "metadata": {
    "collapsed": true
   },
   "outputs": [],
   "source": []
  }
 ],
 "metadata": {
  "kernelspec": {
   "display_name": "Python [conda env:tensorflow_c]",
   "language": "python",
   "name": "conda-env-tensorflow_c-py"
  },
  "language_info": {
   "codemirror_mode": {
    "name": "ipython",
    "version": 3
   },
   "file_extension": ".py",
   "mimetype": "text/x-python",
   "name": "python",
   "nbconvert_exporter": "python",
   "pygments_lexer": "ipython3",
   "version": "3.6.2"
  }
 },
 "nbformat": 4,
 "nbformat_minor": 2
}
