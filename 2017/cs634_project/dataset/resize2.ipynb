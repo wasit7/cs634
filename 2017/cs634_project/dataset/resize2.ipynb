{
 "cells": [
  {
   "cell_type": "code",
   "execution_count": 2,
   "metadata": {
    "collapsed": true
   },
   "outputs": [],
   "source": [
    "import cv2\n",
    "import os\n",
    "import numpy as np\n",
    "%matplotlib inline\n",
    "from matplotlib import pyplot as plt"
   ]
  },
  {
   "cell_type": "code",
   "execution_count": 11,
   "metadata": {},
   "outputs": [],
   "source": [
    "xs=[]\n",
    "ys=[]\n",
    "\n",
    "#dog\n",
    "for f in os.listdir(\"dog\"):\n",
    "    if f.endswith(\".jpg\"):\n",
    "        img=cv2.imread(os.path.join(\"dog\", f),0)\n",
    "        h,w = img.shape\n",
    "        # cropping\n",
    "        if w<h:\n",
    "            margin=(h-w)//2\n",
    "            croped=img[ margin:-margin, :]\n",
    "        else:\n",
    "            margin=(w-h)//2\n",
    "            croped=img[ :, margin:-margin]\n",
    "        #resizing\n",
    "        resized=cv2.resize(croped, (28,28))\n",
    "        x=np.reshape(resized, newshape=(784))\n",
    "        xs.append(x)\n",
    "        ys.append([0,1])\n",
    "#cat\n",
    "\n",
    "batch=[ np.array(xs,dtype=float)/255.0, np.array(ys,dtype=float)]"
   ]
  },
  {
   "cell_type": "code",
   "execution_count": 12,
   "metadata": {},
   "outputs": [
    {
     "data": {
      "text/plain": [
       "[array([[ 0.69803922,  0.70980392,  0.74117647, ...,  0.34509804,\n",
       "          0.4627451 ,  0.4       ],\n",
       "        [ 0.91764706,  0.88627451,  0.85098039, ...,  0.2       ,\n",
       "          0.13333333,  0.18431373],\n",
       "        [ 0.05098039,  0.00784314,  0.00784314, ...,  0.09803922,\n",
       "          0.00784314,  0.22745098],\n",
       "        ..., \n",
       "        [ 0.49803922,  0.42745098,  0.46666667, ...,  0.41176471,\n",
       "          0.38039216,  0.41960784],\n",
       "        [ 0.14901961,  0.59215686,  0.59607843, ...,  0.70196078,\n",
       "          0.70588235,  0.70196078],\n",
       "        [ 0.56470588,  0.88627451,  0.73333333, ...,  0.69019608,\n",
       "          0.81568627,  0.49803922]]), array([[ 0.,  1.],\n",
       "        [ 0.,  1.],\n",
       "        [ 0.,  1.],\n",
       "        [ 0.,  1.],\n",
       "        [ 0.,  1.],\n",
       "        [ 0.,  1.],\n",
       "        [ 0.,  1.],\n",
       "        [ 0.,  1.],\n",
       "        [ 0.,  1.],\n",
       "        [ 0.,  1.],\n",
       "        [ 0.,  1.],\n",
       "        [ 0.,  1.],\n",
       "        [ 0.,  1.],\n",
       "        [ 0.,  1.],\n",
       "        [ 0.,  1.],\n",
       "        [ 0.,  1.],\n",
       "        [ 0.,  1.],\n",
       "        [ 0.,  1.]])]"
      ]
     },
     "execution_count": 12,
     "metadata": {},
     "output_type": "execute_result"
    }
   ],
   "source": [
    "batch"
   ]
  },
  {
   "cell_type": "code",
   "execution_count": null,
   "metadata": {
    "collapsed": true
   },
   "outputs": [],
   "source": []
  }
 ],
 "metadata": {
  "kernelspec": {
   "display_name": "Python [conda env:tensorflow_c]",
   "language": "python",
   "name": "conda-env-tensorflow_c-py"
  },
  "language_info": {
   "codemirror_mode": {
    "name": "ipython",
    "version": 3
   },
   "file_extension": ".py",
   "mimetype": "text/x-python",
   "name": "python",
   "nbconvert_exporter": "python",
   "pygments_lexer": "ipython3",
   "version": "3.6.2"
  }
 },
 "nbformat": 4,
 "nbformat_minor": 2
}
